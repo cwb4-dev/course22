{
 "cells": [
  {
   "cell_type": "code",
   "execution_count": 6,
   "id": "1e9e9963-877c-4a83-a4b6-e6854f5e986e",
   "metadata": {},
   "outputs": [],
   "source": [
    "from pprint import pprint"
   ]
  },
  {
   "cell_type": "code",
   "execution_count": 2,
   "id": "70c3d343-8407-4a34-b536-1ffd414d4bd7",
   "metadata": {},
   "outputs": [
    {
     "name": "stdout",
     "output_type": "stream",
     "text": [
      "\u001b[33mWARNING: Running pip as the 'root' user can result in broken permissions and conflicting behaviour with the system package manager. It is recommended to use a virtual environment instead: https://pip.pypa.io/warnings/venv\u001b[0m\u001b[33m\n",
      "\u001b[0m"
     ]
    }
   ],
   "source": [
    "!pip install -Uq fastbook\n",
    "from fastbook import *"
   ]
  },
  {
   "cell_type": "code",
   "execution_count": 15,
   "id": "946f24b1-a32d-4c8f-9fa9-ac3df36dc5d6",
   "metadata": {},
   "outputs": [],
   "source": [
    "urls = search_images_ddg('grizzly bear', max_images=1)"
   ]
  },
  {
   "cell_type": "code",
   "execution_count": 9,
   "id": "2d91a220-c649-4d16-98fb-86db0c6fde8a",
   "metadata": {},
   "outputs": [
    {
     "name": "stdout",
     "output_type": "stream",
     "text": [
      "{'items': ['https://images4.fanpop.com/image/photos/16800000/dragon-dragons-16851785-600-768.jpg']}\n"
     ]
    }
   ],
   "source": [
    "test = search_images_ddg('dragon', max_images=1)\n",
    "print(test.__dict__)"
   ]
  },
  {
   "cell_type": "code",
   "execution_count": 1,
   "id": "236a4140-6f77-4e82-b58f-9125aa455d66",
   "metadata": {},
   "outputs": [
    {
     "name": "stderr",
     "output_type": "stream",
     "text": [
      "100%|██████████| 9000000/9000000 [00:02<00:00, 3814048.45it/s]\n"
     ]
    }
   ],
   "source": [
    "from tqdm import tqdm\n",
    "\n",
    "for i in tqdm(range(int(9e6))):\n",
    "    pass"
   ]
  },
  {
   "cell_type": "code",
   "execution_count": 3,
   "id": "ccebc5db-a0c0-41d4-82fc-2989d00bb00d",
   "metadata": {},
   "outputs": [
    {
     "name": "stderr",
     "output_type": "stream",
     "text": [
      "/usr/local/lib/python3.9/dist-packages/PIL/Image.py:959: UserWarning: Palette images with Transparency expressed in bytes should be converted to RGBA images\n",
      "  warnings.warn(\n",
      "/usr/local/lib/python3.9/dist-packages/PIL/Image.py:959: UserWarning: Palette images with Transparency expressed in bytes should be converted to RGBA images\n",
      "  warnings.warn(\n"
     ]
    }
   ],
   "source": [
    "# breeds = ['siberian husky', 'corgi', 'dragon', 'retriever', 'samoyed']\n",
    "breeds = ['corgi','dragon']\n",
    "from pathlib import Path\n",
    "import time\n",
    "max_results=200\n",
    "path = Path('dogs_breeds') # defining path\n",
    "\n",
    "for b in breeds:\n",
    "    dest = (path/b)\n",
    "    dest.mkdir(exist_ok=True, parents=True) \n",
    "    \n",
    "    download_images(dest, urls=search_images_ddg(f'photo {b}', \n",
    "                                                 max_images=max_results))\n",
    "    time.sleep(5) \n",
    "    download_images(dest, urls=search_images_ddg(f'photo {b} puppy', \n",
    "                                                 max_images=max_results))\n",
    "    time.sleep(5) \n",
    "    download_images(dest, urls=search_images_ddg(f'photo {b} sleep', \n",
    "                                                 max_images=max_results))\n",
    "    time.sleep(5) \n",
    "    resize_images(path/b, max_size=400, dest=path/b)"
   ]
  },
  {
   "cell_type": "code",
   "execution_count": null,
   "id": "bb1f9c2a-79d1-4cbe-aa5f-a7287e2dd8d5",
   "metadata": {},
   "outputs": [],
   "source": []
  }
 ],
 "metadata": {
  "kernelspec": {
   "display_name": "Python 3 (ipykernel)",
   "language": "python",
   "name": "python3"
  },
  "language_info": {
   "codemirror_mode": {
    "name": "ipython",
    "version": 3
   },
   "file_extension": ".py",
   "mimetype": "text/x-python",
   "name": "python",
   "nbconvert_exporter": "python",
   "pygments_lexer": "ipython3",
   "version": "3.9.16"
  }
 },
 "nbformat": 4,
 "nbformat_minor": 5
}
