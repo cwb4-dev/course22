{
 "cells": [
  {
   "cell_type": "code",
   "execution_count": 50,
   "metadata": {},
   "outputs": [],
   "source": [
    "<<<<<<< REMOTE CELL DELETED >>>>>>>\n",
    "#from duckduckgo_search import ddg_images\n",
    "from fastbook import *\n",
    "from fastcore.all import *\n",
    "\n",
    "#def search_images(term, max_images=200): return L(ddg_images(term, max_results=max_images)).itemgot('image')"
   ]
  },
  {
   "cell_type": "code",
   "execution_count": 43,
   "metadata": {},
   "outputs": [],
   "source": [
    "<<<<<<< REMOTE CELL DELETED >>>>>>>\n",
    "searches = 'forest','bird'\n",
    "path = Path('bird_or_not')\n",
    "from time import sleep\n",
    "max_images = 200\n",
    "\n",
    "for o in searches:\n",
    "    dest = (path/o)\n",
    "    dest.mkdir(exist_ok=True, parents=True)\n",
    "    download_images(dest, urls=search_images_ddg(f'{o} photo', max_images=max_images))\n",
    "    sleep(10)  # Pause between searches to avoid over-loading server\n",
    "    download_images(dest, urls=search_images_ddg(f'{o} sun photo', max_images=max_images))\n",
    "    sleep(10)\n",
    "    download_images(dest, urls=search_images_ddg(f'{o} shade photo', max_images=max_images))\n",
    "    sleep(10)\n",
    "    resize_images(path/o, max_size=400, dest=path/o"
   ]
  }
 ],
 "metadata": {},
 "nbformat": 4,
 "nbformat_minor": 4
}
