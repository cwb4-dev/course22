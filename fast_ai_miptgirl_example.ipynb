{
  "nbformat": 4,
  "nbformat_minor": 0,
  "metadata": {
    "colab": {
      "private_outputs": true,
      "provenance": [],
      "authorship_tag": "ABX9TyNWa/4qo9n2tLB2etHOkEpj",
      "include_colab_link": true
    },
    "kernelspec": {
      "name": "python3",
      "display_name": "Python 3"
    },
    "language_info": {
      "name": "python"
    }
  },
  "cells": [
    {
      "cell_type": "markdown",
      "metadata": {
        "id": "view-in-github",
        "colab_type": "text"
      },
      "source": [
        "<a href=\"https://colab.research.google.com/github/cwb4-dev/fastai-course22/blob/master/fast_ai_miptgirl_example.ipynb\" target=\"_parent\"><img src=\"https://colab.research.google.com/assets/colab-badge.svg\" alt=\"Open In Colab\"/></a>"
      ]
    },
    {
      "cell_type": "markdown",
      "source": [
        "## fast-ai-miptgirl example\n",
        "https://towardsdatascience.com/build-your-first-deep-learning-app-within-an-hour-4e80c120e99f"
      ],
      "metadata": {
        "id": "8zA58KfUdXgn"
      }
    },
    {
      "cell_type": "code",
      "execution_count": null,
      "metadata": {
        "id": "xnA7yZrjdV7H"
      },
      "outputs": [],
      "source": [
        "!pip install -Uq duckduckgo_search"
      ]
    },
    {
      "cell_type": "code",
      "source": [
        "from fastcore.all import *\n",
        "from fastai.vision.all import *\n",
        "from fastai.vision.widgets import *\n",
        "from fastdownload import download_url"
      ],
      "metadata": {
        "id": "OCF8NWlbdxhU"
      },
      "execution_count": null,
      "outputs": []
    },
    {
      "cell_type": "markdown",
      "source": [
        "### Load Data"
      ],
      "metadata": {
        "id": "nRaYuP1Ad5Ye"
      }
    },
    {
      "cell_type": "code",
      "source": [
        "from duckduckgo_search import DDGS\n",
        "import itertools\n",
        "with DDGS() as ddgs:\n",
        "    res = list(itertools.islice(ddgs.images('photo samoyed happy',\n",
        "                                license_image = 'any'), 1))"
      ],
      "metadata": {
        "id": "vHI3vKZ5d8nx"
      },
      "execution_count": null,
      "outputs": []
    },
    {
      "cell_type": "code",
      "source": [
        "res"
      ],
      "metadata": {
        "id": "C9VJ7mpreEKC"
      },
      "execution_count": null,
      "outputs": []
    },
    {
      "cell_type": "markdown",
      "source": [
        "#### build & show thumnail"
      ],
      "metadata": {
        "id": "TrlGwn-neN4Q"
      }
    },
    {
      "cell_type": "code",
      "source": [
        "dest = './Images/test.jpg'\n",
        "download_url(res[0]['image'], dest, show_progress=False)\n",
        "im = Image.open(dest)\n",
        "im.to_thumb(256,256)"
      ],
      "metadata": {
        "id": "JpcuzmwjeQsp"
      },
      "execution_count": null,
      "outputs": []
    },
    {
      "cell_type": "code",
      "source": [
        "len(res)"
      ],
      "metadata": {
        "id": "NGQ6O6B2fGPG"
      },
      "execution_count": null,
      "outputs": []
    }
  ]
}